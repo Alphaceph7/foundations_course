{
 "cells": [
  {
   "cell_type": "markdown",
   "metadata": {},
   "source": [
    "# MARKDOWN\n",
    "## MARKDOWN\n",
    "### MARKDOWN\n",
    "#### MARKDOWN\n",
    "##### MARKDOWN"
   ]
  },
  {
   "cell_type": "markdown",
   "metadata": {},
   "source": [
    "## To change a cell to __Markdown__, change to _command mode_ using Esc and then press __M__"
   ]
  },
  {
   "cell_type": "markdown",
   "metadata": {},
   "source": [
    "### __Text Formatting__"
   ]
  },
  {
   "cell_type": "markdown",
   "metadata": {},
   "source": [
    "To make the text bold use __I am in Bold__ or **I am in Bold**<br>\n",
    "To make the text italic use *I am in Italic* or _I am in Italic_<br>\n",
    "Multiple line breaks using <br> <br> <br> <br>\n",
    "After 4 line breaks I am here."
   ]
  },
  {
   "cell_type": "markdown",
   "metadata": {},
   "source": [
    "### __Lists and Numbering__"
   ]
  },
  {
   "cell_type": "markdown",
   "metadata": {},
   "source": [
    "__Numbered list__ <br>\n",
    "\n",
    "1. First numbered item\n",
    "2. Second numbered item\n",
    "3. Third numbered item\n",
    "\n",
    "\n",
    "__Bulleted list__ <br>\n",
    "* First bulleted item\n",
    "* Second bulleted item\n",
    "* Third bulleted item\n",
    "\n",
    "\n",
    "__Mixed list__ <br>\n",
    "\n",
    "1. First numbered item\n",
    "2. Second numbered item\n",
    "3. Third numbered item\n",
    "    * First bulleted item\n",
    "    * Second bulleted item\n",
    "        * First bulleted sub-item\n",
    "        * Second bulleted sub-item\n",
    "    * Third bulleted item\n",
    "4. Fourth numbered item"
   ]
  },
  {
   "cell_type": "markdown",
   "metadata": {},
   "source": [
    "### Hyperlinks"
   ]
  },
  {
   "cell_type": "markdown",
   "metadata": {},
   "source": [
    "Insert hyperlinks using the following syntax: <br>\n",
    "[Click to open Google](https://www.google.com)\n"
   ]
  },
  {
   "cell_type": "markdown",
   "metadata": {},
   "source": [
    "### __Code__"
   ]
  },
  {
   "cell_type": "markdown",
   "metadata": {},
   "source": [
    "Insert code using the following syntax\n",
    "\n",
    "<br>\n",
    "\n",
    "__Python Code__\n",
    "\n",
    "```python\n",
    "date = ['01/01/2018','01/02/2018','01/03/2018','01/04/2018','01/05/2018']\n",
    "stock_price = ['44','47.9','51','48.5','53']\n",
    "\n",
    "#convert\n",
    "date_ = np.array(date)\n",
    "price_ = np.array(stock_price,dtype=np.float)\n",
    "\n",
    "#compute\n",
    "sell = np.greater(price_, 50)\n",
    "hold = np.less(price_, 45)\n",
    "buy = np.logical_and(np.greater_equal(price_, 45), np.less_equal(price_, 50))\n",
    "```\n",
    "<br> <br>\n",
    "__C++ Code__\n",
    "\n",
    "```cpp\n",
    "#include <action_node.h>\n",
    "#include <string>\n",
    "\n",
    "#include <actionlib/client/simple_action_client.h>\n",
    "#include <actionlib/client/terminal_state.h>\n",
    "#include <behavior_tree_core/BTAction.h>\n",
    "\n",
    "\n",
    "\n",
    "namespace BT\n",
    "{\n",
    "class ROSAction : public ActionNode\n",
    "{\n",
    "protected:\n",
    "    actionlib::SimpleActionClient<behavior_tree_core::BTAction> action_client_;\n",
    "    behavior_tree_core::BTResult node_result;\n",
    "    behavior_tree_core::BTGoal goal;\n",
    "```"
   ]
  },
  {
   "cell_type": "markdown",
   "metadata": {},
   "source": [
    "### __Equations__"
   ]
  },
  {
   "cell_type": "markdown",
   "metadata": {},
   "source": [
    "Superscript - $x^2$, $x^{x^2}$ <br><br>\n",
    "Subscript - $x_i$, $x_{ij}$ <br><br>\n",
    "Combination of superscript and subscript - $\\sum_{i=1}^n$ <br><br>\n",
    "Examples of greek symbols - $\\sigma$, $\\mu$, $\\alpha$, $\\beta$, $\\gamma$, $\\phi$, $\\pi$ <br><br>\n",
    "Fraction - $\\frac{16}{33}$, $\\frac{x_i - \\mu_B}{\\sqrt{\\sigma_B^2 + \\epsilon}}$ <br><br>\n",
    "Matrix - $\\begin{bmatrix}5 & 1 \\\\2 & 3 \\end{bmatrix}$ <br><br>\n",
    "Differentiation - $\\frac{\\partial a}{\\partial b}$, $\\frac{\\text{d}x}{\\text{d}y}$ <br><br>\n"
   ]
  },
  {
   "cell_type": "code",
   "execution_count": null,
   "metadata": {},
   "outputs": [],
   "source": []
  }
 ],
 "metadata": {
  "kernelspec": {
   "display_name": "Python 3",
   "language": "python",
   "name": "python3"
  },
  "language_info": {
   "codemirror_mode": {
    "name": "ipython",
    "version": 3
   },
   "file_extension": ".py",
   "mimetype": "text/x-python",
   "name": "python",
   "nbconvert_exporter": "python",
   "pygments_lexer": "ipython3",
   "version": "3.6.7"
  }
 },
 "nbformat": 4,
 "nbformat_minor": 2
}
